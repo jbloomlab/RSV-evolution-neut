{
 "cells": [
  {
   "cell_type": "markdown",
   "id": "449e11f8",
   "metadata": {},
   "source": [
    "# calculating fraction infectivities from excel output plate reader files\n",
    "This notebook uses `excel_to_fractinfect_TM_InputFolder.py` to calculate fraction infectivities based on plate reader excel files in the subfolder `raw_plate_reader`. For the most part experiments are seperated by date, see `ExperimentDates.txt` for more details and for information on which fraction infectivities were instead calculated 'manually'. \n",
    "\n",
    "`excel_to_fractinfect_TM_InputFolder.py` is a script that takes:\n",
    "- a **folder** containing excel output files from the SkanIt plate reader software (make sure none of these are open on your device before running or you will get an error about the excel file type being unknown)\n",
    "- a **plate layout** from the PlateLayout folder located in the 'route' folder which defines sample positions in the plate\n",
    "- a **plate map**, which is a .csv which links the plate name to sample names and viruses tested, starting concentration, dilution factor **plate layout** file etc.\n",
    "\n",
    "The **plate map** has columns:\n",
    "- **Date_Read**: this is for record keeping and does not effect analysis \n",
    "- **Plate**: the name of the plate, exactly how it appears in the excel plate reader output file (2 cells below the `Wavelength: 0 nm` cell). If this is off by a space or character you will get an error when reading the plate.\n",
    "- **Sample**: the sera sample name\n",
    "- **SampleNum**: the sample position number designated by the plate layout file\n",
    "- **Virus**: the virus added to the sample\n",
    "- **PlateLayout**: the name of the file of your plate map that is located in the PlateLayout folder \n",
    "- **StartDil**: the starting dilution of sera on the plate \n",
    "- **DilFactor**: the dilution factor of the sera, pretty straightfoward.\n",
    "- **Orientation**: `V` for vertical/tall (H-A at top) or `H` for horizontal/wide (1-12 at top)\n",
    "- **background**: `keep` to keep background `cells only` values (designated in plate layout), `remove` to remove the average negative control RLU value from samples\n",
    "Each row of *plate map* must have all of these column values. And each row refers to a sample on the plate. Look at layouts and example plate maps to get a better idea of how this works.\n",
    "- **experiment_rep** any value, attached to output fraction infectivity file (used in our case to keep track of experiment type and replicate for each sample/virus+serum combo)"
   ]
  },
  {
   "cell_type": "code",
   "execution_count": 1,
   "id": "27debfa0-9fad-4140-af99-48309cc17eaa",
   "metadata": {},
   "outputs": [],
   "source": [
    "import pandas as pd\n",
    "import numpy as np\n",
    "import neutcurve\n",
    "\n",
    "from math import floor, log10\n",
    "from plotnine import *"
   ]
  },
  {
   "cell_type": "code",
   "execution_count": 2,
   "id": "52cf719c",
   "metadata": {},
   "outputs": [
    {
     "name": "stdout",
     "output_type": "stream",
     "text": [
      "/fh/fast/bloom_j/computational_notebooks/tmcmahon/2024/02_RSV/RSV_evolution_neut/01_data\n",
      "/fh/fast/bloom_j/computational_notebooks/tmcmahon/2024/02_RSV/RSV_evolution_neut/01_data\n"
     ]
    }
   ],
   "source": [
    "from pathlib import Path\n",
    "import os\n",
    "\n",
    "from pathlib import Path\n",
    "\n",
    "repo_root = Path.cwd()\n",
    "print(repo_root)\n",
    "#os.chdir(\"../\")\n",
    "print(os.getcwd())\n",
    "#print(os.listdir(\"raw_plate_reader\"))"
   ]
  },
  {
   "cell_type": "markdown",
   "id": "ad9c3fe7",
   "metadata": {},
   "source": [
    "## 24.10.11"
   ]
  },
  {
   "cell_type": "code",
   "execution_count": 3,
   "id": "f7cf62fc-0995-4b4e-b0eb-ba0ba80b4b31",
   "metadata": {},
   "outputs": [
    {
     "name": "stdout",
     "output_type": "stream",
     "text": [
      "Processing file: raw_plate_reader/24.10.11_RSVNeut_Sera_Evo1/2024.10.11_RSVNeutSeraEvo1_V1P5-8.xlsx\n",
      "Processing plate: v1p5\n",
      "Processing plate: v1p6\n",
      "Processing plate: v1p7\n",
      "Processing file: raw_plate_reader/24.10.11_RSVNeut_Sera_Evo1/2024.10.11_RSVNeutSeraEvo1_V4P5-8.xlsx\n",
      "Processing plate: V4P5\n",
      "Processing plate: V4P6\n",
      "Processing plate: V4P7\n",
      "Processing file: raw_plate_reader/24.10.11_RSVNeut_Sera_Evo1/2024.10.11_RSVNeutSeraEvo1_V4P1-4.xlsx\n",
      "Processing plate: v4p1\n",
      "Processing plate: v4p3\n",
      "Processing plate: v4p4\n",
      "Processing file: raw_plate_reader/24.10.11_RSVNeut_Sera_Evo1/2024.10.11_RSVNeutSeraEvo1_V1P1-4.xlsx\n",
      "Processing plate: v1p1\n",
      "Processing plate: v1p2\n",
      "Processing plate: v1p3\n",
      "Processing plate: v1p4\n",
      "Processing file: raw_plate_reader/24.10.11_RSVNeut_Sera_Evo1/2024.10.11_RSVNeutSeraEvo1_V4P2_repeat.xlsx\n",
      "Processing plate: v4p2\n",
      "Processing file: raw_plate_reader/24.10.11_RSVNeut_Sera_Evo1/2024.10.11_RSVNeutSeraEvo1_V3P1-4_V2P1-4.xlsx\n",
      "Processing plate: V2P1\n",
      "Processing plate: V2P2\n",
      "Processing plate: V2P3\n",
      "Processing plate: V2P4\n",
      "Processing file: raw_plate_reader/24.10.11_RSVNeut_Sera_Evo1/2024.10.11_RSVNeutSeraEvo1_V2P5-p8.xlsx\n",
      "Processing plate: V2P5\n",
      "Processing plate: V2P6\n",
      "Processing plate: V2P7\n"
     ]
    }
   ],
   "source": [
    "#run script\n",
    "%run excel_to_fractinfect_TM_InputFolder.py raw_plate_reader/24.10.11_RSVNeut_Sera_Evo1 frac_infect/241011_fractinfect.csv maps/24.10.11_map.csv PlateLayouts"
   ]
  },
  {
   "cell_type": "markdown",
   "id": "6eafb4d2",
   "metadata": {},
   "source": [
    "## 24.10.17"
   ]
  },
  {
   "cell_type": "code",
   "execution_count": 4,
   "id": "f3f28588-8aea-43b0-b5b7-17b821e7c7bd",
   "metadata": {},
   "outputs": [
    {
     "name": "stdout",
     "output_type": "stream",
     "text": [
      "Processing file: raw_plate_reader/24.10.17_RSVNeut_Sera_Evo2/24.10.17_RSVNeutEvoSeraRep2_V4P1-4.xlsx\n",
      "Processing plate: V4P1\n",
      "Processing plate: V4P2\n",
      "Processing plate: V4P3\n",
      "Processing plate: V4P4\n",
      "Processing file: raw_plate_reader/24.10.17_RSVNeut_Sera_Evo2/24.10.17_RSVNeutEvoSeraRep2_V4P5-8.xlsx\n",
      "Processing plate: V4P5\n",
      "Processing plate: V4P6\n",
      "Processing plate: V4P7\n",
      "Processing file: raw_plate_reader/24.10.17_RSVNeut_Sera_Evo2/24.10.17_RSVNeutEvoSeraRep2_V1P5-8.xlsx\n",
      "Processing plate: V1P5\n",
      "Processing plate: V1P6\n",
      "Processing plate: V1P7\n",
      "Processing file: raw_plate_reader/24.10.17_RSVNeut_Sera_Evo2/24.10.17_RSVNeutEvoSeraRep2_V2P5-8.xlsx\n",
      "Processing plate: V2P5\n",
      "Processing plate: V2P6\n",
      "Processing plate: V2P7\n",
      "Processing file: raw_plate_reader/24.10.17_RSVNeut_Sera_Evo2/24.10.17_RSVNeutEvoSeraRep2_V1P1-4.xlsx\n",
      "Processing plate: V1P4\n",
      "Processing plate: V1P3\n",
      "Processing plate: V1P2\n",
      "Processing plate: V1P1\n",
      "Processing file: raw_plate_reader/24.10.17_RSVNeut_Sera_Evo2/24.10.17_RSVNeutEvoSeraRep2_V2P1-4.xlsx\n",
      "Processing plate: V2P1\n",
      "Processing plate: V2P2\n",
      "Processing plate: V2P3\n",
      "Processing plate: V2P4\n"
     ]
    }
   ],
   "source": [
    "#run script\n",
    "%run excel_to_fractinfect_TM_InputFolder.py raw_plate_reader/24.10.17_RSVNeut_Sera_Evo2 frac_infect/241017_fractinfect.csv maps/24.10.17_map.csv PlateLayouts"
   ]
  },
  {
   "cell_type": "markdown",
   "id": "0082d4fd",
   "metadata": {},
   "source": [
    "## 24.10.31"
   ]
  },
  {
   "cell_type": "code",
   "execution_count": 7,
   "id": "b83861ff-1ea1-4b4b-b664-1805c7c915d9",
   "metadata": {},
   "outputs": [
    {
     "name": "stdout",
     "output_type": "stream",
     "text": [
      "Processing file: raw_plate_reader/24.10.31_RSVNeut_ControlSera_Greninger/2024.10.31_DepletedSera.xlsx\n",
      "Processing plate: Depleted sera P2Long\n",
      "Processing plate: Depleted sera P2 A202\n",
      "Processing plate: Depleted sera P2 B202\n",
      "Processing plate: Depleted sera P1 Long\n",
      "Processing plate: Depleted sera P1 A2020\n",
      "Processing plate: Depleted sera P1 B2024\n",
      "Processing file: raw_plate_reader/24.10.31_RSVNeut_ControlSera_Greninger/2024.10.31_GreningerSet2.xlsx\n",
      "Processing plate: G6\n",
      "Processing plate: G7\n",
      "Processing plate: G8\n",
      "Processing plate: G9\n",
      "Processing plate: G10\n",
      "Processing file: raw_plate_reader/24.10.31_RSVNeut_ControlSera_Greninger/2024.10.31_GreningerSet1.xlsx\n",
      "Processing plate: G1\n",
      "Processing plate: G2\n",
      "Processing plate: G3\n",
      "Processing plate: G4\n",
      "Processing plate: G5\n",
      "Processing file: raw_plate_reader/24.10.31_RSVNeut_ControlSera_Greninger/2024.10.31_CellsTIM1.xlsx\n",
      "Processing plate: Cell TIM1 B2024 \n",
      "Processing plate: Cell TIM1 A2020\n",
      "Processing plate: Cell TIM1 Long\n",
      "Processing file: raw_plate_reader/24.10.31_RSVNeut_ControlSera_Greninger/2024.10.31_Cells_293T.xlsx\n",
      "Processing plate: Cells 293T B2024\n",
      "Processing plate: Cells 293T A2020\n",
      "Processing plate: Cells 293T Long\n"
     ]
    }
   ],
   "source": [
    "%run excel_to_fractinfect_TM_InputFolder.py raw_plate_reader/24.10.31_RSVNeut_ControlSera_Greninger frac_infect/241031_fractinfect.csv maps/24.10.31_map.csv PlateLayouts"
   ]
  },
  {
   "cell_type": "markdown",
   "id": "ceed85f7",
   "metadata": {},
   "source": [
    "## 24.11.01"
   ]
  },
  {
   "cell_type": "code",
   "execution_count": 8,
   "id": "da64b474",
   "metadata": {},
   "outputs": [
    {
     "name": "stdout",
     "output_type": "stream",
     "text": [
      "Processing file: raw_plate_reader/24.11.01_RSVNeut_Greninger_depletedsera/2024.11.01_GreningerSera.xlsx\n",
      "Processing plate: G1\n",
      "Processing plate: G2\n",
      "Processing plate: G3\n",
      "Processing plate: G4\n",
      "Processing plate: G5\n",
      "Processing plate: G6\n",
      "Processing file: raw_plate_reader/24.11.01_RSVNeut_Greninger_depletedsera/2024.11.01_DepletedSera.xlsx\n",
      "Processing plate: Depleted sera P1 Long\n",
      "Processing plate: Depleted sera P2 Long\n",
      "Processing plate: Depleted sera P1 A2020\n",
      "Processing plate: Depleted sera P2 A2020\n",
      "Processing plate: Depleted sera P1 B2024\n",
      "Processing plate: Depleted sera P2 B2024\n",
      "Processing file: raw_plate_reader/24.11.01_RSVNeut_Greninger_depletedsera/2024.11.01_Cells.xlsx\n",
      "Processing plate: TIM1 Long\n",
      "Processing plate: 293T Long\n",
      "Processing plate: TIM1 A2020\n",
      "Processing plate: 293T A2020\n"
     ]
    }
   ],
   "source": [
    "%run excel_to_fractinfect_TM_InputFolder.py raw_plate_reader/24.11.01_RSVNeut_Greninger_depletedsera frac_infect/241101_fractinfect.csv maps/24.11.01_map.csv PlateLayouts"
   ]
  },
  {
   "cell_type": "markdown",
   "id": "36e5bea7",
   "metadata": {},
   "source": [
    "## 24.11.07"
   ]
  },
  {
   "cell_type": "code",
   "execution_count": 9,
   "id": "526f2725",
   "metadata": {},
   "outputs": [
    {
     "name": "stdout",
     "output_type": "stream",
     "text": [
      "Processing file: raw_plate_reader/24.11.07/241107_cell_b2024.xlsx\n",
      "Processing plate: B2024 TIM1\n",
      "Processing plate: B2024 293T\n"
     ]
    }
   ],
   "source": [
    "%run excel_to_fractinfect_TM_InputFolder.py raw_plate_reader/24.11.07 frac_infect/241107_fractinfect.csv maps/24.11.07_map.csv PlateLayouts"
   ]
  },
  {
   "cell_type": "markdown",
   "id": "6a667d27",
   "metadata": {},
   "source": [
    "## 24.11.14"
   ]
  },
  {
   "cell_type": "code",
   "execution_count": 10,
   "id": "c48950c5",
   "metadata": {},
   "outputs": [
    {
     "name": "stdout",
     "output_type": "stream",
     "text": [
      "Processing file: raw_plate_reader/24.11.14_additional_isolates/2024.11.14_Neut_EvoAdditIsolates_Set2.xlsx\n",
      "Processing plate: B 1992 Plate 1\n",
      "Processing plate: B 1992 Plate 2\n",
      "Processing plate: B 1992 Plate 3\n",
      "Processing plate: B 2019 Plate 1 \n",
      "Processing plate: B 2019 Plate 2\n",
      "Processing plate: B 2019 Plate 3\n"
     ]
    }
   ],
   "source": [
    "%run excel_to_fractinfect_TM_InputFolder.py raw_plate_reader/24.11.14_additional_isolates frac_infect/241114_fractinfect.csv maps/24.11.14_map.csv PlateLayouts"
   ]
  },
  {
   "cell_type": "markdown",
   "id": "97425e8e-f8af-4bfe-a2b1-fedb00ed47c8",
   "metadata": {},
   "source": [
    "# 24.12.12\n",
    "H3 sera neut rep 1"
   ]
  },
  {
   "cell_type": "code",
   "execution_count": 11,
   "id": "ee605406-b02f-4712-9f2a-24ebcdbb1fd9",
   "metadata": {},
   "outputs": [
    {
     "name": "stdout",
     "output_type": "stream",
     "text": [
      "Processing file: raw_plate_reader/24.12.12_H3Neut_Rep1/2024.12.12_HA3_MA22_NeutRep1.xlsx\n",
      "Processing plate: MA22 P1\n",
      "Processing plate: MA22 P2\n",
      "Processing plate: MA22 P3\n",
      "Processing plate: MA22 P4\n",
      "Processing plate: MA22 P5\n",
      "Processing plate: MA22 P6\n",
      "Processing plate: MA22 P7\n",
      "Processing file: raw_plate_reader/24.12.12_H3Neut_Rep1/2024.12.12_HA3_Neth82_Set2NeutRep1.xlsx\n",
      "Processing plate: Neth82 P4\n",
      "Processing plate: Neth82 P5\n",
      "Processing plate: Neth82 P6\n",
      "Processing plate: Neth82 P7\n",
      "Processing file: raw_plate_reader/24.12.12_H3Neut_Rep1/2024.12.12_H3Neut_Neth82Set1_Rep1.xlsx\n",
      "Processing plate: Neth82P1\n",
      "Processing plate: Neth82P2\n",
      "Processing plate: Neth82P3\n"
     ]
    }
   ],
   "source": [
    "#run script\n",
    "%run excel_to_fractinfect_TM_InputFolder.py raw_plate_reader/24.12.12_H3Neut_Rep1 frac_infect/241212_fractinfect.csv maps/24.12.12_map.csv PlateLayouts"
   ]
  },
  {
   "cell_type": "markdown",
   "id": "8a4f8a2a-4025-44f6-b896-d12d1bb59b49",
   "metadata": {},
   "source": [
    "## 24.12.13 \n",
    "\n",
    "Historical sera (Long G-depleted) neutralization of RSV B 1982, B N201S, B 1992 and B 2019\n",
    "Low RLU for B 1982 "
   ]
  },
  {
   "cell_type": "code",
   "execution_count": 12,
   "id": "7ab7ed42-f0fa-4dfb-985b-011dbb9b6923",
   "metadata": {},
   "outputs": [
    {
     "name": "stdout",
     "output_type": "stream",
     "text": [
      "Processing file: raw_plate_reader/24.12.13_RSVNeut_HistoricalSera_Rep1/2024.12.13_RSVNeut_HistoricalSeraGDepl_Rep1_V3.xlsx\n",
      "Processing plate: V3P1\n",
      "Processing plate: V3P2\n",
      "Processing plate: V3P3\n",
      "Processing plate: V3P4\n",
      "Processing plate: V3P5\n",
      "Processing plate: V3P6\n",
      "Processing plate: V3P7\n",
      "Processing file: raw_plate_reader/24.12.13_RSVNeut_HistoricalSera_Rep1/2024.12.13_RSVNeut_HistoricalSeraGDepl_Rep1_V4.xlsx\n",
      "Processing plate: V4P1\n",
      "Processing plate: V4P2\n",
      "Processing plate: V4P3\n",
      "Processing plate: V4P4\n",
      "Processing plate: V4P5\n",
      "Processing plate: V4P6\n",
      "Processing plate: V4P7\n",
      "Processing file: raw_plate_reader/24.12.13_RSVNeut_HistoricalSera_Rep1/2024.12.13_RSVNeut_HistoricalSeraGDepl_Rep1_V1.xlsx\n",
      "Processing plate: V1P1\n",
      "Processing plate: V1P2\n",
      "Processing plate: V1P3\n",
      "Processing plate: V1P4\n",
      "Processing plate: V1P5\n",
      "Processing plate: V1P6\n",
      "Processing plate: V1P7\n"
     ]
    }
   ],
   "source": [
    "\n",
    "#run script\n",
    "%run excel_to_fractinfect_TM_InputFolder.py raw_plate_reader/24.12.13_RSVNeut_HistoricalSera_Rep1 frac_infect/241213_fractinfect.csv maps/24.12.13_map.csv PlateLayouts\n"
   ]
  },
  {
   "cell_type": "markdown",
   "id": "bb95d97e-6285-4383-b703-9a472b15ccb4",
   "metadata": {},
   "source": [
    "## 24.12.13 mAb \n",
    "mAb 1982 rep 2"
   ]
  },
  {
   "cell_type": "code",
   "execution_count": 13,
   "id": "7a56d227-0315-448a-bb20-f774ad4a9257",
   "metadata": {},
   "outputs": [
    {
     "name": "stdout",
     "output_type": "stream",
     "text": [
      "Processing file: raw_plate_reader/24.12.13_RSVmAb_B1982_rep2/2024.12.13_RSVNeut_B1982_mAbs_Rep2.xlsx\n",
      "Processing plate: RSVB1982_mAbsP1\n",
      "Processing plate: RSVB1982_mAbsP2\n",
      "Processing plate: RSVB1982_mAbsP3\n"
     ]
    }
   ],
   "source": [
    "\n",
    "#run script\n",
    "%run excel_to_fractinfect_TM_InputFolder.py raw_plate_reader/24.12.13_RSVmAb_B1982_rep2 frac_infect/241213_mAb_fractinfect.csv maps/24.12.13_map_mAbs.csv PlateLayouts\n"
   ]
  },
  {
   "cell_type": "markdown",
   "id": "8f4426f9-541a-41f9-8f71-5a1ac8e222d9",
   "metadata": {},
   "source": [
    "## 24.12.19\n",
    "rep 2 sera for remaining sera against last 4 viruses (B82, B92, B2019, N201S)"
   ]
  },
  {
   "cell_type": "code",
   "execution_count": 14,
   "id": "4e1b3b9b-832d-40a4-b256-63f8be7b9816",
   "metadata": {},
   "outputs": [
    {
     "name": "stdout",
     "output_type": "stream",
     "text": [
      "Processing file: raw_plate_reader/24.12.19_Sera_RSV_rep2/2024.12.19_Neut_V3.xlsx\n",
      "Processing plate: V3P4\n",
      "Processing plate: V3P3\n",
      "Processing plate: V3P2\n",
      "Processing plate: V3P1\n",
      "Processing file: raw_plate_reader/24.12.19_Sera_RSV_rep2/2024.12.19_Neut_V4.xlsx\n",
      "Processing plate: V4P4\n",
      "Processing plate: V4P3\n",
      "Processing plate: V4P2\n",
      "Processing plate: V4P1\n"
     ]
    }
   ],
   "source": [
    "#run script\n",
    "%run excel_to_fractinfect_TM_InputFolder.py raw_plate_reader/24.12.19_Sera_RSV_rep2 frac_infect/241219_fractinfect.csv maps/24.12.19_map.csv PlateLayouts"
   ]
  },
  {
   "cell_type": "markdown",
   "id": "5aec92e2-5ef5-40e3-88b2-971fcb865ff8",
   "metadata": {},
   "source": [
    "## 24.12.20"
   ]
  },
  {
   "cell_type": "code",
   "execution_count": 15,
   "id": "3adcf5c9-56b9-4c72-9c00-e55e040e9fe8",
   "metadata": {},
   "outputs": [
    {
     "name": "stdout",
     "output_type": "stream",
     "text": [
      "Processing file: raw_plate_reader/24.12.20_H3_Neut_Rep2/2024.12.20_H3_MA22_Neut_Rep2.xlsx\n",
      "Processing plate: MA22 P1\n",
      "Processing plate: MA22 P2\n",
      "Processing plate: MA22 P3\n",
      "Processing plate: MA22 P4\n",
      "Processing plate: MA22 P5\n",
      "Processing plate: MA22 P6\n",
      "Processing plate: MA22 P7\n",
      "Processing file: raw_plate_reader/24.12.20_H3_Neut_Rep2/2024.12.20_H3_Neth82_Neut_Rep2.xlsx\n",
      "Processing plate: Neth82 P1\n",
      "Processing plate: Neth82 P2\n",
      "Processing plate: Neth82 P3\n",
      "Processing plate: Neth82 P4\n",
      "Processing plate: Neth82 P5\n",
      "Processing plate: Neth82 P6\n",
      "Processing plate: Neth82 P7\n"
     ]
    }
   ],
   "source": [
    "#run script\n",
    "%run excel_to_fractinfect_TM_InputFolder.py raw_plate_reader/24.12.20_H3_Neut_Rep2 frac_infect/241220_fractinfect.csv maps/24.12.20_map.csv PlateLayouts"
   ]
  },
  {
   "cell_type": "markdown",
   "id": "2e540fb0-4190-4cc4-9928-ca9897c92f17",
   "metadata": {},
   "source": [
    "## 250109"
   ]
  },
  {
   "cell_type": "code",
   "execution_count": 16,
   "id": "59914d76-5694-45d8-8785-5cc22d315455",
   "metadata": {},
   "outputs": [
    {
     "name": "stdout",
     "output_type": "stream",
     "text": [
      "Processing file: raw_plate_reader/2025.01.09/240109_V2.xlsx\n",
      "Processing plate: V2P1\n",
      "Processing plate: V2P2\n",
      "Processing plate: V2P3\n",
      "Processing plate: V2P4\n",
      "Processing plate: V2P5\n",
      "Processing plate: V2P6\n",
      "Processing plate: V2P7\n"
     ]
    }
   ],
   "source": [
    "#run script\n",
    "%run excel_to_fractinfect_TM_InputFolder.py raw_plate_reader/2025.01.09 frac_infect/250109_fractinfect.csv maps/25.01.09_map.csv PlateLayouts"
   ]
  },
  {
   "cell_type": "markdown",
   "id": "bc79bc33-b614-4478-88c5-d040805abfae",
   "metadata": {},
   "source": [
    "## 250116 H3"
   ]
  },
  {
   "cell_type": "code",
   "execution_count": 17,
   "id": "89b5705d-9b21-4ea7-b376-cf7a177faee1",
   "metadata": {},
   "outputs": [
    {
     "name": "stdout",
     "output_type": "stream",
     "text": [
      "Processing file: raw_plate_reader/2025.01.16_H3/2025.01.16_H3.xlsx\n",
      "Processing plate: MA22\n",
      "Processing plate: Neth82\n"
     ]
    }
   ],
   "source": [
    "#run script\n",
    "%run excel_to_fractinfect_TM_InputFolder.py raw_plate_reader/2025.01.16_H3 frac_infect/250116_fractinfect.csv maps/25.01.16_map_H3.csv PlateLayouts"
   ]
  },
  {
   "cell_type": "markdown",
   "id": "0062c613-8644-48b8-92a0-08d941446ef2",
   "metadata": {},
   "source": [
    "## 250123"
   ]
  },
  {
   "cell_type": "code",
   "execution_count": 18,
   "id": "aab8ba93-4c3a-407a-99b2-95a26e9993d7",
   "metadata": {},
   "outputs": [
    {
     "name": "stdout",
     "output_type": "stream",
     "text": [
      "Processing file: raw_plate_reader/25.01.23/250123_hist_sera_V3.xlsx\n",
      "Processing plate: V3P1\n",
      "Processing plate: V3P2\n",
      "Processing plate: V3P3\n",
      "Processing plate: V3P4\n",
      "Processing plate: V3P5\n",
      "Processing plate: V3P6\n",
      "Processing plate: V3P7\n",
      "Processing file: raw_plate_reader/25.01.23/250123_mAb.xlsx\n",
      "Processing plate: mAb_V1P1\n",
      "Processing plate: mAb_V1P2\n",
      "Processing plate: mAb_V1P3\n",
      "Processing plate: mAb_V2P1\n",
      "Processing plate: mAb_V2P2\n",
      "Processing plate: mAb_V2P3\n",
      "Processing file: raw_plate_reader/25.01.23/250123_hist_sera_V2.xlsx\n",
      "Processing plate: V2P1\n",
      "Processing plate: V2P2\n",
      "Processing plate: V2P3\n",
      "Processing plate: V2P4\n",
      "Processing plate: V2P5\n",
      "Processing plate: V2P6\n",
      "Processing plate: V2P7\n",
      "Processing file: raw_plate_reader/25.01.23/250123_hist_sera_V1.xlsx\n",
      "Processing plate: V1P4\n",
      "Processing plate: V1P1\n",
      "Processing plate: V1P2\n",
      "Processing plate: V1P3\n",
      "Processing plate: V1P5\n",
      "Processing plate: V1P6\n",
      "Processing plate: V1P7\n"
     ]
    }
   ],
   "source": [
    "#run script\n",
    "%run excel_to_fractinfect_TM_InputFolder.py raw_plate_reader/25.01.23 frac_infect/250123_fractinfect.csv maps/25.01.23_map.csv PlateLayouts"
   ]
  },
  {
   "cell_type": "markdown",
   "id": "d92359a5-0a43-4bfa-99ef-52531c7dd13f",
   "metadata": {},
   "source": [
    "## 250130 N201S N201T mAb"
   ]
  },
  {
   "cell_type": "code",
   "execution_count": 19,
   "id": "1cf57496-8d95-4a75-bfeb-a9ac9d8e7d3a",
   "metadata": {},
   "outputs": [
    {
     "name": "stdout",
     "output_type": "stream",
     "text": [
      "Processing file: raw_plate_reader/25.01.30_mab/25.01.30_mAbV1-2.xlsx\n",
      "Processing plate: V1P1\n",
      "Processing plate: V1P2\n",
      "Processing plate: V1P3\n",
      "Processing plate: V2P1\n",
      "Processing plate: V2P2\n",
      "Processing plate: V2P3\n",
      "Processing file: raw_plate_reader/25.01.30_mab/25.01.30_mAb_V3.xlsx\n",
      "Processing plate: V3P1\n",
      "Processing plate: V3P2\n",
      "Processing plate: V3P3\n"
     ]
    }
   ],
   "source": [
    "#run script\n",
    "%run excel_to_fractinfect_TM_InputFolder.py raw_plate_reader/25.01.30_mab frac_infect/250130_fractinfect.csv maps/25.01.30_map.csv PlateLayouts"
   ]
  },
  {
   "cell_type": "code",
   "execution_count": null,
   "id": "dfda372b-249f-462d-b511-4ce1fbce5622",
   "metadata": {},
   "outputs": [],
   "source": []
  }
 ],
 "metadata": {
  "kernelspec": {
   "display_name": "Python 3 (ipykernel)",
   "language": "python",
   "name": "python3"
  },
  "language_info": {
   "codemirror_mode": {
    "name": "ipython",
    "version": 3
   },
   "file_extension": ".py",
   "mimetype": "text/x-python",
   "name": "python",
   "nbconvert_exporter": "python",
   "pygments_lexer": "ipython3",
   "version": "3.12.7"
  }
 },
 "nbformat": 4,
 "nbformat_minor": 5
}
