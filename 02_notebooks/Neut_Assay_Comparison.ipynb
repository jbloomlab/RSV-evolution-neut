{
 "cells": [
  {
   "cell_type": "code",
   "execution_count": 1,
   "id": "27debfa0-9fad-4140-af99-48309cc17eaa",
   "metadata": {},
   "outputs": [
    {
     "name": "stdout",
     "output_type": "stream",
     "text": [
      "Using `neutcurve` version 2.1.0\n",
      "/fh/fast/bloom_j/computational_notebooks/tmcmahon/2024/02_RSV/RSV_evolution_neut\n"
     ]
    }
   ],
   "source": [
    "import math\n",
    "import os\n",
    "import re\n",
    "import altair as alt\n",
    "import numpy as np\n",
    "import pandas as pd\n",
    "import scipy.stats\n",
    "import yaml\n",
    "import neutcurve\n",
    "import scipy.stats\n",
    "print(f\"Using `neutcurve` version {neutcurve.__version__}\")\n",
    "import sys\n",
    "import matplotlib.pyplot as plt\n",
    "import matplotlib.ticker as ticker\n",
    "\n",
    "# allow more rows for Altair\n",
    "_ = alt.data_transformers.disable_max_rows()\n",
    "\n",
    "#import altair themes from /data/custom_analyses_data/theme.py and enable\n",
    "import theme\n",
    "alt.themes.register('main_theme', theme.main_theme)\n",
    "alt.themes.enable('main_theme')\n",
    "from pathlib import Path\n",
    "\n",
    "repo_root = Path.cwd().parent\n",
    "os.chdir(repo_root)\n",
    "print(os.getcwd())\n",
    "#print(os.listdir(\"raw_plate_reader\"))\n",
    "plt.rcParams['svg.fonttype'] = 'none' #from bernadeta, for correct font svg output"
   ]
  },
  {
   "cell_type": "code",
   "execution_count": 2,
   "id": "5c978632-08c9-4380-85cc-021ed70cfc70",
   "metadata": {},
   "outputs": [],
   "source": [
    "df = pd.read_csv('01_data/other/RSV_NeutTiter_Comparison_For_Correlation.csv')\n",
    "df.head()\n",
    "df.columns = df.columns.str.strip()"
   ]
  },
  {
   "cell_type": "markdown",
   "id": "65346a6e-fbd2-4d58-9f74-b278574a247d",
   "metadata": {},
   "source": [
    "# correlation plot"
   ]
  },
  {
   "cell_type": "code",
   "execution_count": 3,
   "id": "053da231-e25c-45c1-bd34-48b6bcb64b99",
   "metadata": {},
   "outputs": [
    {
     "data": {
      "text/html": [
       "\n",
       "<style>\n",
       "  #altair-viz-8b0c881642784af697cd9b57d36f12c1.vega-embed {\n",
       "    width: 100%;\n",
       "    display: flex;\n",
       "  }\n",
       "\n",
       "  #altair-viz-8b0c881642784af697cd9b57d36f12c1.vega-embed details,\n",
       "  #altair-viz-8b0c881642784af697cd9b57d36f12c1.vega-embed details summary {\n",
       "    position: relative;\n",
       "  }\n",
       "</style>\n",
       "<div id=\"altair-viz-8b0c881642784af697cd9b57d36f12c1\"></div>\n",
       "<script type=\"text/javascript\">\n",
       "  var VEGA_DEBUG = (typeof VEGA_DEBUG == \"undefined\") ? {} : VEGA_DEBUG;\n",
       "  (function(spec, embedOpt){\n",
       "    let outputDiv = document.currentScript.previousElementSibling;\n",
       "    if (outputDiv.id !== \"altair-viz-8b0c881642784af697cd9b57d36f12c1\") {\n",
       "      outputDiv = document.getElementById(\"altair-viz-8b0c881642784af697cd9b57d36f12c1\");\n",
       "    }\n",
       "    const paths = {\n",
       "      \"vega\": \"https://cdn.jsdelivr.net/npm/vega@5?noext\",\n",
       "      \"vega-lib\": \"https://cdn.jsdelivr.net/npm/vega-lib?noext\",\n",
       "      \"vega-lite\": \"https://cdn.jsdelivr.net/npm/vega-lite@5.20.1?noext\",\n",
       "      \"vega-embed\": \"https://cdn.jsdelivr.net/npm/vega-embed@6?noext\",\n",
       "    };\n",
       "\n",
       "    function maybeLoadScript(lib, version) {\n",
       "      var key = `${lib.replace(\"-\", \"\")}_version`;\n",
       "      return (VEGA_DEBUG[key] == version) ?\n",
       "        Promise.resolve(paths[lib]) :\n",
       "        new Promise(function(resolve, reject) {\n",
       "          var s = document.createElement('script');\n",
       "          document.getElementsByTagName(\"head\")[0].appendChild(s);\n",
       "          s.async = true;\n",
       "          s.onload = () => {\n",
       "            VEGA_DEBUG[key] = version;\n",
       "            return resolve(paths[lib]);\n",
       "          };\n",
       "          s.onerror = () => reject(`Error loading script: ${paths[lib]}`);\n",
       "          s.src = paths[lib];\n",
       "        });\n",
       "    }\n",
       "\n",
       "    function showError(err) {\n",
       "      outputDiv.innerHTML = `<div class=\"error\" style=\"color:red;\">${err}</div>`;\n",
       "      throw err;\n",
       "    }\n",
       "\n",
       "    function displayChart(vegaEmbed) {\n",
       "      vegaEmbed(outputDiv, spec, embedOpt)\n",
       "        .catch(err => showError(`Javascript Error: ${err.message}<br>This usually means there's a typo in your chart specification. See the javascript console for the full traceback.`));\n",
       "    }\n",
       "\n",
       "    if(typeof define === \"function\" && define.amd) {\n",
       "      requirejs.config({paths});\n",
       "      require([\"vega-embed\"], displayChart, err => showError(`Error loading script: ${err.message}`));\n",
       "    } else {\n",
       "      maybeLoadScript(\"vega\", \"5\")\n",
       "        .then(() => maybeLoadScript(\"vega-lite\", \"5.20.1\"))\n",
       "        .then(() => maybeLoadScript(\"vega-embed\", \"6\"))\n",
       "        .catch(showError)\n",
       "        .then(() => displayChart(vegaEmbed));\n",
       "    }\n",
       "  })({\"config\": {\"background\": \"transparent\", \"title\": {\"fontSize\": 20, \"fontWeight\": \"normal\", \"font\": \"Helvetica\", \"anchor\": \"start\", \"color\": \"#000000\", \"orient\": \"top\", \"offset\": 5, \"subtitleColor\": \"gray\", \"subtitleFont\": \"Helvetica\", \"subtitleFontWeight\": \"normal\", \"subtitleFontSize\": 18, \"subtitlePadding\": 2}, \"axis\": {\"domain\": true, \"domainColor\": \"black\", \"domainWidth\": 1, \"grid\": false, \"gridColor\": \"#DEDDDD\", \"gridWidth\": 0.5, \"labelFont\": \"Helvetica\", \"labelFontSize\": 14, \"labelFlush\": false, \"labelFontWeight\": \"normal\", \"labelPadding\": 2, \"tickColor\": \"black\", \"tickSize\": 4, \"tickWidth\": 1, \"titleFont\": \"Helvetica\", \"titleAlign\": \"center\", \"titleFontWeight\": \"bold\", \"titleFontSize\": 14, \"titlePadding\": 5}, \"legend\": {\"labelFont\": \"Helvetica\", \"labelFontSize\": 14, \"symbolSize\": 100, \"titleFont\": \"Helvetica\", \"titleFontSize\": 14, \"titleFontWeight\": \"bold\", \"padding\": 5, \"titleLimit\": 200, \"gradientLength\": 100}, \"range\": {\"category\": [\"#4e79a7\", \"#f28e2c\", \"#e15759\", \"#76b7b2\", \"#59a14f\", \"#edc949\", \"#af7aa1\", \"#ff9da7\", \"#9c755f\", \"#bab0ab\"], \"diverging\": [\"#c7e9b4\", \"#7fcdbb\", \"#41b6c4\", \"#1d91c0\", \"#225ea8\", \"#253494\"]}, \"view\": {\"stroke\": \"transparent\", \"strokeWidth\": 0}, \"text\": {\"font\": \"Helvetica Light\", \"fontSize\": 14}}, \"layer\": [{\"data\": {\"name\": \"data-8dc2a3ae54218d42720fbca276cee393\"}, \"mark\": {\"type\": \"circle\", \"color\": \"black\", \"size\": 60}, \"encoding\": {\"tooltip\": [{\"field\": \"Pseudovirus Assay NT50\", \"type\": \"quantitative\"}, {\"field\": \"Full virus Assay ND50\", \"type\": \"quantitative\"}, {\"field\": \"Sera\", \"type\": \"quantitative\"}], \"x\": {\"field\": \"Pseudovirus Assay NT50\", \"scale\": {\"type\": \"log\"}, \"title\": \"Pseudovirus Assay NT50\", \"type\": \"quantitative\"}, \"y\": {\"field\": \"Full virus Assay ND50\", \"scale\": {\"type\": \"log\"}, \"title\": \"Full Virus Assay ND50\", \"type\": \"quantitative\"}}}, {\"data\": {\"name\": \"data-56a3f9a219dc1683574b487c685bac50\"}, \"mark\": {\"type\": \"line\", \"color\": \"gray\", \"strokeDash\": [5, 5]}, \"encoding\": {\"x\": {\"field\": \"Pseudovirus Assay NT50\", \"type\": \"quantitative\"}, \"y\": {\"field\": \"identity\", \"type\": \"quantitative\"}}}], \"height\": 400, \"width\": 400, \"$schema\": \"https://vega.github.io/schema/vega-lite/v5.20.1.json\", \"datasets\": {\"data-8dc2a3ae54218d42720fbca276cee393\": [{\"Sera\": 1, \"Full virus Assay ND50\": 66231, \"Pseudovirus Assay NT50\": 92188}, {\"Sera\": 2, \"Full virus Assay ND50\": 15850, \"Pseudovirus Assay NT50\": 26062}, {\"Sera\": 3, \"Full virus Assay ND50\": 7609, \"Pseudovirus Assay NT50\": 4452}, {\"Sera\": 4, \"Full virus Assay ND50\": 43386, \"Pseudovirus Assay NT50\": 48302}, {\"Sera\": 5, \"Full virus Assay ND50\": 1183, \"Pseudovirus Assay NT50\": 1099}, {\"Sera\": 6, \"Full virus Assay ND50\": 5667, \"Pseudovirus Assay NT50\": 12583}, {\"Sera\": 7, \"Full virus Assay ND50\": 2195, \"Pseudovirus Assay NT50\": 3693}, {\"Sera\": 8, \"Full virus Assay ND50\": 796, \"Pseudovirus Assay NT50\": 3091}, {\"Sera\": 9, \"Full virus Assay ND50\": 28349, \"Pseudovirus Assay NT50\": 44700}, {\"Sera\": 10, \"Full virus Assay ND50\": 6191, \"Pseudovirus Assay NT50\": 9826}, {\"Sera\": 11, \"Full virus Assay ND50\": 3794, \"Pseudovirus Assay NT50\": 7599}, {\"Sera\": 12, \"Full virus Assay ND50\": 1982, \"Pseudovirus Assay NT50\": 3500}, {\"Sera\": 13, \"Full virus Assay ND50\": 1891, \"Pseudovirus Assay NT50\": 2852}, {\"Sera\": 14, \"Full virus Assay ND50\": 1696, \"Pseudovirus Assay NT50\": 2787}, {\"Sera\": 15, \"Full virus Assay ND50\": 877, \"Pseudovirus Assay NT50\": 2808}, {\"Sera\": 16, \"Full virus Assay ND50\": 536, \"Pseudovirus Assay NT50\": 453}, {\"Sera\": 17, \"Full virus Assay ND50\": 386, \"Pseudovirus Assay NT50\": 376}, {\"Sera\": 18, \"Full virus Assay ND50\": 242, \"Pseudovirus Assay NT50\": 413}, {\"Sera\": 19, \"Full virus Assay ND50\": 111, \"Pseudovirus Assay NT50\": 154}, {\"Sera\": 20, \"Full virus Assay ND50\": 29284, \"Pseudovirus Assay NT50\": 62362}, {\"Sera\": 21, \"Full virus Assay ND50\": 10727, \"Pseudovirus Assay NT50\": 22193}, {\"Sera\": 22, \"Full virus Assay ND50\": 6597, \"Pseudovirus Assay NT50\": 2179}, {\"Sera\": 23, \"Full virus Assay ND50\": 4391, \"Pseudovirus Assay NT50\": 4377}, {\"Sera\": 24, \"Full virus Assay ND50\": 3622, \"Pseudovirus Assay NT50\": 7686}, {\"Sera\": 25, \"Full virus Assay ND50\": 3387, \"Pseudovirus Assay NT50\": 4007}, {\"Sera\": 26, \"Full virus Assay ND50\": 1598, \"Pseudovirus Assay NT50\": 1853}, {\"Sera\": 27, \"Full virus Assay ND50\": 474, \"Pseudovirus Assay NT50\": 541}, {\"Sera\": 28, \"Full virus Assay ND50\": 132, \"Pseudovirus Assay NT50\": 651}], \"data-56a3f9a219dc1683574b487c685bac50\": [{\"Pseudovirus Assay NT50\": 154.0, \"identity\": 154.0}, {\"Pseudovirus Assay NT50\": 164.27549259369073, \"identity\": 164.27549259369073}, {\"Pseudovirus Assay NT50\": 175.2366069279202, \"identity\": 175.2366069279202}, {\"Pseudovirus Assay NT50\": 186.92909041253927, \"identity\": 186.92909041253927}, {\"Pseudovirus Assay NT50\": 199.40174290656128, \"identity\": 199.40174290656128}, {\"Pseudovirus Assay NT50\": 212.70662038971295, \"identity\": 212.70662038971295}, {\"Pseudovirus Assay NT50\": 226.89925222376155, \"identity\": 226.89925222376155}, {\"Pseudovirus Assay NT50\": 242.0388729103799, \"identity\": 242.0388729103799}, {\"Pseudovirus Assay NT50\": 258.18866931282025, \"identity\": 258.18866931282025}, {\"Pseudovirus Assay NT50\": 275.4160443732017, \"identity\": 275.4160443732017}, {\"Pseudovirus Assay NT50\": 293.7928984260617, \"identity\": 293.7928984260617}, {\"Pseudovirus Assay NT50\": 313.3959292822687, \"identity\": 313.3959292822687}, {\"Pseudovirus Assay NT50\": 334.3069523357283, \"identity\": 334.3069523357283}, {\"Pseudovirus Assay NT50\": 356.61324202887823, \"identity\": 356.61324202887823}, {\"Pseudovirus Assay NT50\": 380.4078961021231, \"identity\": 380.4078961021231}, {\"Pseudovirus Assay NT50\": 405.79022414744026, \"identity\": 405.79022414744026}, {\"Pseudovirus Assay NT50\": 432.86616208782414, \"identity\": 432.86616208782414}, {\"Pseudovirus Assay NT50\": 461.748714312452, \"identity\": 461.748714312452}, {\"Pseudovirus Assay NT50\": 492.5584253128664, \"identity\": 492.5584253128664}, {\"Pseudovirus Assay NT50\": 525.4238827885953, \"identity\": 525.4238827885953}, {\"Pseudovirus Assay NT50\": 560.4822543219876, \"identity\": 560.4822543219876}, {\"Pseudovirus Assay NT50\": 597.8798598621219, \"identity\": 597.8798598621219}, {\"Pseudovirus Assay NT50\": 637.7727824071223, \"identity\": 637.7727824071223}, {\"Pseudovirus Assay NT50\": 680.3275194336276, \"identity\": 680.3275194336276}, {\"Pseudovirus Assay NT50\": 725.7216777922265, \"identity\": 725.7216777922265}, {\"Pseudovirus Assay NT50\": 774.1447149690753, \"identity\": 774.1447149690753}, {\"Pseudovirus Assay NT50\": 825.7987298074489, \"identity\": 825.7987298074489}, {\"Pseudovirus Assay NT50\": 880.8993059893687, \"identity\": 880.8993059893687}, {\"Pseudovirus Assay NT50\": 939.6764117976873, \"identity\": 939.6764117976873}, {\"Pseudovirus Assay NT50\": 1002.3753599138746, \"identity\": 1002.3753599138746}, {\"Pseudovirus Assay NT50\": 1069.2578312573362, \"identity\": 1069.2578312573362}, {\"Pseudovirus Assay NT50\": 1140.6029671393517, \"identity\": 1140.6029671393517}, {\"Pseudovirus Assay NT50\": 1216.7085342898847, \"identity\": 1216.7085342898847}, {\"Pseudovirus Assay NT50\": 1297.892167619599, \"identity\": 1297.892167619599}, {\"Pseudovirus Assay NT50\": 1384.4926959039133, \"identity\": 1384.4926959039133}, {\"Pseudovirus Assay NT50\": 1476.8715559219609, \"identity\": 1476.8715559219609}, {\"Pseudovirus Assay NT50\": 1575.4143009525362, \"identity\": 1575.4143009525362}, {\"Pseudovirus Assay NT50\": 1680.5322099228736, \"identity\": 1680.5322099228736}, {\"Pseudovirus Assay NT50\": 1792.6640039262581, \"identity\": 1792.6640039262581}, {\"Pseudovirus Assay NT50\": 1912.2776772724933, \"identity\": 1912.2776772724933}, {\"Pseudovirus Assay NT50\": 2039.8724507133609, \"identity\": 2039.8724507133609}, {\"Pseudovirus Assay NT50\": 2175.98085499504, \"identity\": 2175.98085499504}, {\"Pseudovirus Assay NT50\": 2321.1709534334445, \"identity\": 2321.1709534334445}, {\"Pseudovirus Assay NT50\": 2476.0487127886067, \"identity\": 2476.0487127886067}, {\"Pseudovirus Assay NT50\": 2641.2605323332614, \"identity\": 2641.2605323332614}, {\"Pseudovirus Assay NT50\": 2817.4959416709107, \"identity\": 2817.4959416709107}, {\"Pseudovirus Assay NT50\": 3005.4904785630742, \"identity\": 3005.4904785630742}, {\"Pseudovirus Assay NT50\": 3206.0287587765956, \"identity\": 3206.0287587765956}, {\"Pseudovirus Assay NT50\": 3419.9477507634033, \"identity\": 3419.9477507634033}, {\"Pseudovirus Assay NT50\": 3648.1402688398844, \"identity\": 3648.1402688398844}, {\"Pseudovirus Assay NT50\": 3891.5586994451382, \"identity\": 3891.5586994451382}, {\"Pseudovirus Assay NT50\": 4151.218976029952, \"identity\": 4151.218976029952}, {\"Pseudovirus Assay NT50\": 4428.2048191662125, \"identity\": 4428.2048191662125}, {\"Pseudovirus Assay NT50\": 4723.672259573272, \"identity\": 4723.672259573272}, {\"Pseudovirus Assay NT50\": 5038.854462938645, \"identity\": 5038.854462938645}, {\"Pseudovirus Assay NT50\": 5375.066876669884, \"identity\": 5375.066876669884}, {\"Pseudovirus Assay NT50\": 5733.7127200582845, \"identity\": 5733.7127200582845}, {\"Pseudovirus Assay NT50\": 6116.288840768084, \"identity\": 6116.288840768084}, {\"Pseudovirus Assay NT50\": 6524.391962093965, \"identity\": 6524.391962093965}, {\"Pseudovirus Assay NT50\": 6959.725347060398, \"identity\": 6959.725347060398}, {\"Pseudovirus Assay NT50\": 7424.1059071762475, \"identity\": 7424.1059071762475}, {\"Pseudovirus Assay NT50\": 7919.471785513675, \"identity\": 7919.471785513675}, {\"Pseudovirus Assay NT50\": 8447.890445760353, \"identity\": 8447.890445760353}, {\"Pseudovirus Assay NT50\": 9011.567301005296, \"identity\": 9011.567301005296}, {\"Pseudovirus Assay NT50\": 9612.854918271694, \"identity\": 9612.854918271694}, {\"Pseudovirus Assay NT50\": 10254.26283721276, \"identity\": 10254.26283721276}, {\"Pseudovirus Assay NT50\": 10938.468043949997, \"identity\": 10938.468043949997}, {\"Pseudovirus Assay NT50\": 11668.32614376773, \"identity\": 11668.32614376773}, {\"Pseudovirus Assay NT50\": 12446.883279294048, \"identity\": 12446.883279294048}, {\"Pseudovirus Assay NT50\": 13277.388843910405, \"identity\": 13277.388843910405}, {\"Pseudovirus Assay NT50\": 14163.309043450361, \"identity\": 14163.309043450361}, {\"Pseudovirus Assay NT50\": 15108.341362788819, \"identity\": 15108.341362788819}, {\"Pseudovirus Assay NT50\": 16116.42999769981, \"identity\": 16116.42999769981}, {\"Pseudovirus Assay NT50\": 17191.782316388733, \"identity\": 17191.782316388733}, {\"Pseudovirus Assay NT50\": 18338.886419404287, \"identity\": 18338.886419404287}, {\"Pseudovirus Assay NT50\": 19562.529871216782, \"identity\": 19562.529871216782}, {\"Pseudovirus Assay NT50\": 20867.819681642333, \"identity\": 20867.819681642333}, {\"Pseudovirus Assay NT50\": 22260.203620507247, \"identity\": 22260.203620507247}, {\"Pseudovirus Assay NT50\": 23745.492954510897, \"identity\": 23745.492954510897}, {\"Pseudovirus Assay NT50\": 25329.8867011837, \"identity\": 25329.8867011837}, {\"Pseudovirus Assay NT50\": 27019.99750116447, \"identity\": 27019.99750116447}, {\"Pseudovirus Assay NT50\": 28822.879216779776, \"identity\": 28822.879216779776}, {\"Pseudovirus Assay NT50\": 30746.056372110055, \"identity\": 30746.056372110055}, {\"Pseudovirus Assay NT50\": 32797.55555741398, \"identity\": 32797.55555741398}, {\"Pseudovirus Assay NT50\": 34985.93892898137, \"identity\": 34985.93892898137}, {\"Pseudovirus Assay NT50\": 37320.339944228464, \"identity\": 37320.339944228464}, {\"Pseudovirus Assay NT50\": 39810.50148118262, \"identity\": 39810.50148118262}, {\"Pseudovirus Assay NT50\": 42466.816501448884, \"identity\": 42466.816501448884}, {\"Pseudovirus Assay NT50\": 45300.37142637257, \"identity\": 45300.37142637257}, {\"Pseudovirus Assay NT50\": 48322.99240743196, \"identity\": 48322.99240743196}, {\"Pseudovirus Assay NT50\": 51547.294683974316, \"identity\": 51547.294683974316}, {\"Pseudovirus Assay NT50\": 54986.73523429881, \"identity\": 54986.73523429881}, {\"Pseudovirus Assay NT50\": 58655.66893982653, \"identity\": 58655.66893982653}, {\"Pseudovirus Assay NT50\": 62569.408496769145, \"identity\": 62569.408496769145}, {\"Pseudovirus Assay NT50\": 66744.28832534162, \"identity\": 66744.28832534162}, {\"Pseudovirus Assay NT50\": 71197.73274325191, \"identity\": 71197.73274325191}, {\"Pseudovirus Assay NT50\": 75948.32868799788, \"identity\": 75948.32868799788}, {\"Pseudovirus Assay NT50\": 81015.90329148286, \"identity\": 81015.90329148286}, {\"Pseudovirus Assay NT50\": 86421.60663072178, \"identity\": 86421.60663072178}, {\"Pseudovirus Assay NT50\": 92187.99999999994, \"identity\": 92187.99999999994}]}}, {\"mode\": \"vega-lite\"});\n",
       "</script>"
      ],
      "text/plain": [
       "alt.LayerChart(...)"
      ]
     },
     "execution_count": 3,
     "metadata": {},
     "output_type": "execute_result"
    }
   ],
   "source": [
    "import altair as alt\n",
    "import pandas as pd\n",
    "import numpy as np\n",
    "\n",
    "# Create smooth x range for the identity line (slope = 1 line)\n",
    "x_vals = np.logspace(\n",
    "    np.log10(df['Pseudovirus Assay NT50'].min()),\n",
    "    np.log10(df['Pseudovirus Assay NT50'].max()),\n",
    "    100\n",
    ")\n",
    "\n",
    "identity_df = pd.DataFrame({\n",
    "    'Pseudovirus Assay NT50': x_vals,\n",
    "    'identity': x_vals\n",
    "})\n",
    "\n",
    "# Base scatter plot\n",
    "base = alt.Chart(df).mark_circle(size=60, color='black').encode(\n",
    "    x=alt.X('Pseudovirus Assay NT50', scale=alt.Scale(type='log'), title='Pseudovirus Assay NT50'),\n",
    "    y=alt.Y('Full virus Assay ND50', scale=alt.Scale(type='log'), title='Full Virus Assay ND50'),\n",
    "    tooltip=['Pseudovirus Assay NT50', 'Full virus Assay ND50', 'Sera']\n",
    ").properties(\n",
    "    width=400,\n",
    "    height=400,\n",
    "   # title='RSV Neutralization Titer Correlation'\n",
    ")\n",
    "\n",
    "# Identity line (gray dashed)\n",
    "identity_line = alt.Chart(identity_df).mark_line(\n",
    "    strokeDash=[5, 5],\n",
    "    color='gray'\n",
    ").encode(\n",
    "    x='Pseudovirus Assay NT50',\n",
    "    y='identity'\n",
    ")\n",
    "\n",
    "# Combine scatter plot and identity line\n",
    "chart = (base + identity_line).configure_axis(\n",
    "    grid=False\n",
    ")\n",
    "\n",
    "# Save the chart\n",
    "chart.save('03_output/plots/Neut_Assay_Comparison_Correlation.html')\n",
    "\n",
    "# Display the chart\n",
    "chart\n"
   ]
  },
  {
   "cell_type": "code",
   "execution_count": null,
   "id": "51d23f1e-727f-41b7-86c6-c4c6b1d0975c",
   "metadata": {},
   "outputs": [],
   "source": []
  }
 ],
 "metadata": {
  "kernelspec": {
   "display_name": "Python 3 (ipykernel)",
   "language": "python",
   "name": "python3"
  },
  "language_info": {
   "codemirror_mode": {
    "name": "ipython",
    "version": 3
   },
   "file_extension": ".py",
   "mimetype": "text/x-python",
   "name": "python",
   "nbconvert_exporter": "python",
   "pygments_lexer": "ipython3",
   "version": "3.12.7"
  }
 },
 "nbformat": 4,
 "nbformat_minor": 5
}
